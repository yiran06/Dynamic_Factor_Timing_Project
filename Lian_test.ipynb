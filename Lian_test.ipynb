{
 "cells": [
  {
   "cell_type": "code",
   "execution_count": 1,
   "metadata": {
    "collapsed": true
   },
   "outputs": [],
   "source": [
    "import pandas as pd\n",
    "import os\n",
    "import numpy as np\n",
    "import matplotlib.pyplot as plt"
   ]
  },
  {
   "cell_type": "code",
   "execution_count": 2,
   "metadata": {
    "collapsed": true
   },
   "outputs": [],
   "source": [
    "asset_file = 'data/asset_return.csv'\n",
    "factor_file = 'data/Monthly_Factors_Log_Returns_Aggregated.csv'"
   ]
  },
  {
   "cell_type": "code",
   "execution_count": 40,
   "metadata": {
    "collapsed": false
   },
   "outputs": [],
   "source": [
    "\n",
    "asset_data = pd.read_csv(  asset_file, index_col= 0 )\n",
    "asset_data.index = pd.to_datetime( asset_data.index)\n",
    "asset_data.dropna(inplace=True)\n",
    "asset_data.index = asset_data.index.map( lambda x: x.strftime('%Y-%m')  )"
   ]
  },
  {
   "cell_type": "code",
   "execution_count": 41,
   "metadata": {
    "collapsed": true
   },
   "outputs": [],
   "source": [
    "factor_data = pd.read_csv(factor_file, index_col= 0 )\n",
    "factor_data.index = pd.to_datetime( factor_data.index)\n",
    "factor_data.dropna(inplace=True)\n",
    "factor_data.index = factor_data.index.map( lambda x: x.strftime('%Y-%m')  )"
   ]
  },
  {
   "cell_type": "code",
   "execution_count": 42,
   "metadata": {
    "collapsed": false
   },
   "outputs": [],
   "source": [
    "merged_data = pd.concat([asset_data, factor_data], axis=1, join='inner')"
   ]
  },
  {
   "cell_type": "code",
   "execution_count": 146,
   "metadata": {
    "collapsed": false
   },
   "outputs": [],
   "source": [
    "asset_class = asset_data.columns\n",
    "factor_class = factor_data.columns\n",
    "\n",
    "dic1 = {}\n",
    "for i,col in enumerate( merged_data.columns):\n",
    "    dic1[col]=i"
   ]
  },
  {
   "cell_type": "code",
   "execution_count": 142,
   "metadata": {
    "collapsed": false
   },
   "outputs": [],
   "source": [
    "asset_class_num = [ dic1[col] for col in asset_class]"
   ]
  },
  {
   "cell_type": "code",
   "execution_count": 149,
   "metadata": {
    "collapsed": false
   },
   "outputs": [],
   "source": [
    "factor_class_num =  [ dic1[col] for col in factor_class]"
   ]
  },
  {
   "cell_type": "code",
   "execution_count": 169,
   "metadata": {
    "collapsed": false
   },
   "outputs": [
    {
     "data": {
      "text/plain": [
       "[8, 9, 10, 11, 12, 13, 14, 15]"
      ]
     },
     "execution_count": 169,
     "metadata": {},
     "output_type": "execute_result"
    }
   ],
   "source": [
    "factor_class_num"
   ]
  },
  {
   "cell_type": "code",
   "execution_count": 173,
   "metadata": {
    "collapsed": false
   },
   "outputs": [],
   "source": [
    "\n",
    "\n",
    "asset_class = asset_data.columns\n",
    "factor_class = factor_data.columns\n",
    "\n",
    "\n",
    "for i,col in enumerate(asset_class ):\n",
    "    \n",
    "    dic1[col]=i\n",
    "\n",
    "def conduct_regression( data ):\n",
    "    \n",
    "    import statsmodels.api as sm\n",
    "\n",
    "    print type(data)\n",
    "    print np.shape(data)\n",
    "    xs= sm.add_constant( data[:, factor_class_num ] )\n",
    "    \n",
    "    coef_result =pd.DataFrame( columns= factor_class, index= asset_class )\n",
    "    \n",
    "    for y in asset_class:\n",
    "        model = sm.OLS( data[:,dic1[y]], xs)\n",
    "        results = model.fit()\n",
    "        \n",
    "        coef_result.loc[ y,factor_class] = results.params\n",
    "        \n",
    "    return coef_result\n",
    "        \n",
    "\n"
   ]
  },
  {
   "cell_type": "code",
   "execution_count": 171,
   "metadata": {
    "collapsed": false,
    "scrolled": true
   },
   "outputs": [
    {
     "name": "stdout",
     "output_type": "stream",
     "text": [
      "<class 'pandas.core.frame.DataFrame'>\n",
      "2096\n"
     ]
    },
    {
     "ename": "TypeError",
     "evalue": "unhashable type",
     "output_type": "error",
     "traceback": [
      "\u001b[0;31m---------------------------------------------------------------------------\u001b[0m",
      "\u001b[0;31mTypeError\u001b[0m                                 Traceback (most recent call last)",
      "\u001b[0;32m<ipython-input-171-5a65ddbc6a26>\u001b[0m in \u001b[0;36m<module>\u001b[0;34m()\u001b[0m\n\u001b[0;32m----> 1\u001b[0;31m \u001b[0mconduct_regression\u001b[0m\u001b[1;33m(\u001b[0m \u001b[0mmerged_data\u001b[0m \u001b[1;33m)\u001b[0m\u001b[1;33m\u001b[0m\u001b[0m\n\u001b[0m",
      "\u001b[0;32m<ipython-input-170-df62fd547646>\u001b[0m in \u001b[0;36mconduct_regression\u001b[0;34m(data)\u001b[0m\n\u001b[1;32m     15\u001b[0m     \u001b[1;32mprint\u001b[0m \u001b[0mtype\u001b[0m\u001b[1;33m(\u001b[0m\u001b[0mdata\u001b[0m\u001b[1;33m)\u001b[0m\u001b[1;33m\u001b[0m\u001b[0m\n\u001b[1;32m     16\u001b[0m     \u001b[1;32mprint\u001b[0m \u001b[0mnp\u001b[0m\u001b[1;33m.\u001b[0m\u001b[0msize\u001b[0m\u001b[1;33m(\u001b[0m\u001b[0mdata\u001b[0m\u001b[1;33m)\u001b[0m\u001b[1;33m\u001b[0m\u001b[0m\n\u001b[0;32m---> 17\u001b[0;31m     \u001b[0mxs\u001b[0m\u001b[1;33m=\u001b[0m \u001b[0msm\u001b[0m\u001b[1;33m.\u001b[0m\u001b[0madd_constant\u001b[0m\u001b[1;33m(\u001b[0m \u001b[0mdata\u001b[0m\u001b[1;33m[\u001b[0m\u001b[1;33m:\u001b[0m\u001b[1;33m,\u001b[0m \u001b[0mfactor_class_num\u001b[0m \u001b[1;33m]\u001b[0m \u001b[1;33m)\u001b[0m\u001b[1;33m\u001b[0m\u001b[0m\n\u001b[0m\u001b[1;32m     18\u001b[0m \u001b[1;33m\u001b[0m\u001b[0m\n\u001b[1;32m     19\u001b[0m     \u001b[0mcoef_result\u001b[0m \u001b[1;33m=\u001b[0m\u001b[0mpd\u001b[0m\u001b[1;33m.\u001b[0m\u001b[0mDataFrame\u001b[0m\u001b[1;33m(\u001b[0m \u001b[0mcolumns\u001b[0m\u001b[1;33m=\u001b[0m \u001b[0mfactor_class\u001b[0m\u001b[1;33m,\u001b[0m \u001b[0mindex\u001b[0m\u001b[1;33m=\u001b[0m \u001b[0masset_class\u001b[0m \u001b[1;33m)\u001b[0m\u001b[1;33m\u001b[0m\u001b[0m\n",
      "\u001b[0;32mF:\\Program Files\\Anaconda2\\lib\\site-packages\\pandas\\core\\frame.pyc\u001b[0m in \u001b[0;36m__getitem__\u001b[0;34m(self, key)\u001b[0m\n\u001b[1;32m   1995\u001b[0m             \u001b[1;32mreturn\u001b[0m \u001b[0mself\u001b[0m\u001b[1;33m.\u001b[0m\u001b[0m_getitem_multilevel\u001b[0m\u001b[1;33m(\u001b[0m\u001b[0mkey\u001b[0m\u001b[1;33m)\u001b[0m\u001b[1;33m\u001b[0m\u001b[0m\n\u001b[1;32m   1996\u001b[0m         \u001b[1;32melse\u001b[0m\u001b[1;33m:\u001b[0m\u001b[1;33m\u001b[0m\u001b[0m\n\u001b[0;32m-> 1997\u001b[0;31m             \u001b[1;32mreturn\u001b[0m \u001b[0mself\u001b[0m\u001b[1;33m.\u001b[0m\u001b[0m_getitem_column\u001b[0m\u001b[1;33m(\u001b[0m\u001b[0mkey\u001b[0m\u001b[1;33m)\u001b[0m\u001b[1;33m\u001b[0m\u001b[0m\n\u001b[0m\u001b[1;32m   1998\u001b[0m \u001b[1;33m\u001b[0m\u001b[0m\n\u001b[1;32m   1999\u001b[0m     \u001b[1;32mdef\u001b[0m \u001b[0m_getitem_column\u001b[0m\u001b[1;33m(\u001b[0m\u001b[0mself\u001b[0m\u001b[1;33m,\u001b[0m \u001b[0mkey\u001b[0m\u001b[1;33m)\u001b[0m\u001b[1;33m:\u001b[0m\u001b[1;33m\u001b[0m\u001b[0m\n",
      "\u001b[0;32mF:\\Program Files\\Anaconda2\\lib\\site-packages\\pandas\\core\\frame.pyc\u001b[0m in \u001b[0;36m_getitem_column\u001b[0;34m(self, key)\u001b[0m\n\u001b[1;32m   2002\u001b[0m         \u001b[1;31m# get column\u001b[0m\u001b[1;33m\u001b[0m\u001b[1;33m\u001b[0m\u001b[0m\n\u001b[1;32m   2003\u001b[0m         \u001b[1;32mif\u001b[0m \u001b[0mself\u001b[0m\u001b[1;33m.\u001b[0m\u001b[0mcolumns\u001b[0m\u001b[1;33m.\u001b[0m\u001b[0mis_unique\u001b[0m\u001b[1;33m:\u001b[0m\u001b[1;33m\u001b[0m\u001b[0m\n\u001b[0;32m-> 2004\u001b[0;31m             \u001b[1;32mreturn\u001b[0m \u001b[0mself\u001b[0m\u001b[1;33m.\u001b[0m\u001b[0m_get_item_cache\u001b[0m\u001b[1;33m(\u001b[0m\u001b[0mkey\u001b[0m\u001b[1;33m)\u001b[0m\u001b[1;33m\u001b[0m\u001b[0m\n\u001b[0m\u001b[1;32m   2005\u001b[0m \u001b[1;33m\u001b[0m\u001b[0m\n\u001b[1;32m   2006\u001b[0m         \u001b[1;31m# duplicate columns & possible reduce dimensionality\u001b[0m\u001b[1;33m\u001b[0m\u001b[1;33m\u001b[0m\u001b[0m\n",
      "\u001b[0;32mF:\\Program Files\\Anaconda2\\lib\\site-packages\\pandas\\core\\generic.pyc\u001b[0m in \u001b[0;36m_get_item_cache\u001b[0;34m(self, item)\u001b[0m\n\u001b[1;32m   1346\u001b[0m         \u001b[1;34m\"\"\"Return the cached item, item represents a label indexer.\"\"\"\u001b[0m\u001b[1;33m\u001b[0m\u001b[0m\n\u001b[1;32m   1347\u001b[0m         \u001b[0mcache\u001b[0m \u001b[1;33m=\u001b[0m \u001b[0mself\u001b[0m\u001b[1;33m.\u001b[0m\u001b[0m_item_cache\u001b[0m\u001b[1;33m\u001b[0m\u001b[0m\n\u001b[0;32m-> 1348\u001b[0;31m         \u001b[0mres\u001b[0m \u001b[1;33m=\u001b[0m \u001b[0mcache\u001b[0m\u001b[1;33m.\u001b[0m\u001b[0mget\u001b[0m\u001b[1;33m(\u001b[0m\u001b[0mitem\u001b[0m\u001b[1;33m)\u001b[0m\u001b[1;33m\u001b[0m\u001b[0m\n\u001b[0m\u001b[1;32m   1349\u001b[0m         \u001b[1;32mif\u001b[0m \u001b[0mres\u001b[0m \u001b[1;32mis\u001b[0m \u001b[0mNone\u001b[0m\u001b[1;33m:\u001b[0m\u001b[1;33m\u001b[0m\u001b[0m\n\u001b[1;32m   1350\u001b[0m             \u001b[0mvalues\u001b[0m \u001b[1;33m=\u001b[0m \u001b[0mself\u001b[0m\u001b[1;33m.\u001b[0m\u001b[0m_data\u001b[0m\u001b[1;33m.\u001b[0m\u001b[0mget\u001b[0m\u001b[1;33m(\u001b[0m\u001b[0mitem\u001b[0m\u001b[1;33m)\u001b[0m\u001b[1;33m\u001b[0m\u001b[0m\n",
      "\u001b[0;31mTypeError\u001b[0m: unhashable type"
     ]
    }
   ],
   "source": [
    "conduct_regression( merged_data )"
   ]
  },
  {
   "cell_type": "code",
   "execution_count": 176,
   "metadata": {
    "collapsed": false
   },
   "outputs": [
    {
     "ename": "TypeError",
     "evalue": "a float is required",
     "output_type": "error",
     "traceback": [
      "\u001b[0;31m---------------------------------------------------------------------------\u001b[0m",
      "\u001b[0;31mTypeError\u001b[0m                                 Traceback (most recent call last)",
      "\u001b[0;32m<ipython-input-176-2959d364cf3a>\u001b[0m in \u001b[0;36m<module>\u001b[0;34m()\u001b[0m\n\u001b[1;32m      1\u001b[0m \u001b[1;33m\u001b[0m\u001b[0m\n\u001b[0;32m----> 2\u001b[0;31m \u001b[0mmerged_data\u001b[0m\u001b[1;33m.\u001b[0m\u001b[0mrolling\u001b[0m\u001b[1;33m(\u001b[0m\u001b[1;36m60\u001b[0m\u001b[1;33m)\u001b[0m\u001b[1;33m.\u001b[0m\u001b[0mapply\u001b[0m\u001b[1;33m(\u001b[0m \u001b[1;32mlambda\u001b[0m \u001b[0mx\u001b[0m\u001b[1;33m:\u001b[0m  \u001b[0mnp\u001b[0m\u001b[1;33m.\u001b[0m\u001b[0mshape\u001b[0m\u001b[1;33m(\u001b[0m\u001b[0mx\u001b[0m\u001b[1;33m)\u001b[0m \u001b[1;33m)\u001b[0m\u001b[1;33m\u001b[0m\u001b[0m\n\u001b[0m",
      "\u001b[0;32mF:\\Program Files\\Anaconda2\\lib\\site-packages\\pandas\\core\\window.pyc\u001b[0m in \u001b[0;36mapply\u001b[0;34m(self, func, args, kwargs)\u001b[0m\n\u001b[1;32m    861\u001b[0m     \u001b[1;33m@\u001b[0m\u001b[0mAppender\u001b[0m\u001b[1;33m(\u001b[0m\u001b[0m_shared_docs\u001b[0m\u001b[1;33m[\u001b[0m\u001b[1;34m'apply'\u001b[0m\u001b[1;33m]\u001b[0m\u001b[1;33m)\u001b[0m\u001b[1;33m\u001b[0m\u001b[0m\n\u001b[1;32m    862\u001b[0m     \u001b[1;32mdef\u001b[0m \u001b[0mapply\u001b[0m\u001b[1;33m(\u001b[0m\u001b[0mself\u001b[0m\u001b[1;33m,\u001b[0m \u001b[0mfunc\u001b[0m\u001b[1;33m,\u001b[0m \u001b[0margs\u001b[0m\u001b[1;33m=\u001b[0m\u001b[1;33m(\u001b[0m\u001b[1;33m)\u001b[0m\u001b[1;33m,\u001b[0m \u001b[0mkwargs\u001b[0m\u001b[1;33m=\u001b[0m\u001b[1;33m{\u001b[0m\u001b[1;33m}\u001b[0m\u001b[1;33m)\u001b[0m\u001b[1;33m:\u001b[0m\u001b[1;33m\u001b[0m\u001b[0m\n\u001b[0;32m--> 863\u001b[0;31m         \u001b[1;32mreturn\u001b[0m \u001b[0msuper\u001b[0m\u001b[1;33m(\u001b[0m\u001b[0mRolling\u001b[0m\u001b[1;33m,\u001b[0m \u001b[0mself\u001b[0m\u001b[1;33m)\u001b[0m\u001b[1;33m.\u001b[0m\u001b[0mapply\u001b[0m\u001b[1;33m(\u001b[0m\u001b[0mfunc\u001b[0m\u001b[1;33m,\u001b[0m \u001b[0margs\u001b[0m\u001b[1;33m=\u001b[0m\u001b[0margs\u001b[0m\u001b[1;33m,\u001b[0m \u001b[0mkwargs\u001b[0m\u001b[1;33m=\u001b[0m\u001b[0mkwargs\u001b[0m\u001b[1;33m)\u001b[0m\u001b[1;33m\u001b[0m\u001b[0m\n\u001b[0m\u001b[1;32m    864\u001b[0m \u001b[1;33m\u001b[0m\u001b[0m\n\u001b[1;32m    865\u001b[0m     \u001b[1;33m@\u001b[0m\u001b[0mSubstitution\u001b[0m\u001b[1;33m(\u001b[0m\u001b[0mname\u001b[0m\u001b[1;33m=\u001b[0m\u001b[1;34m'rolling'\u001b[0m\u001b[1;33m)\u001b[0m\u001b[1;33m\u001b[0m\u001b[0m\n",
      "\u001b[0;32mF:\\Program Files\\Anaconda2\\lib\\site-packages\\pandas\\core\\window.pyc\u001b[0m in \u001b[0;36mapply\u001b[0;34m(self, func, args, kwargs)\u001b[0m\n\u001b[1;32m    619\u001b[0m \u001b[1;33m\u001b[0m\u001b[0m\n\u001b[1;32m    620\u001b[0m         return self._apply(f, func, args=args, kwargs=kwargs,\n\u001b[0;32m--> 621\u001b[0;31m                            center=False)\n\u001b[0m\u001b[1;32m    622\u001b[0m \u001b[1;33m\u001b[0m\u001b[0m\n\u001b[1;32m    623\u001b[0m     \u001b[1;32mdef\u001b[0m \u001b[0msum\u001b[0m\u001b[1;33m(\u001b[0m\u001b[0mself\u001b[0m\u001b[1;33m,\u001b[0m \u001b[1;33m**\u001b[0m\u001b[0mkwargs\u001b[0m\u001b[1;33m)\u001b[0m\u001b[1;33m:\u001b[0m\u001b[1;33m\u001b[0m\u001b[0m\n",
      "\u001b[0;32mF:\\Program Files\\Anaconda2\\lib\\site-packages\\pandas\\core\\window.pyc\u001b[0m in \u001b[0;36m_apply\u001b[0;34m(self, func, name, window, center, check_minp, how, **kwargs)\u001b[0m\n\u001b[1;32m    556\u001b[0m \u001b[1;33m\u001b[0m\u001b[0m\n\u001b[1;32m    557\u001b[0m             \u001b[1;32mif\u001b[0m \u001b[0mvalues\u001b[0m\u001b[1;33m.\u001b[0m\u001b[0mndim\u001b[0m \u001b[1;33m>\u001b[0m \u001b[1;36m1\u001b[0m\u001b[1;33m:\u001b[0m\u001b[1;33m\u001b[0m\u001b[0m\n\u001b[0;32m--> 558\u001b[0;31m                 \u001b[0mresult\u001b[0m \u001b[1;33m=\u001b[0m \u001b[0mnp\u001b[0m\u001b[1;33m.\u001b[0m\u001b[0mapply_along_axis\u001b[0m\u001b[1;33m(\u001b[0m\u001b[0mcalc\u001b[0m\u001b[1;33m,\u001b[0m \u001b[0mself\u001b[0m\u001b[1;33m.\u001b[0m\u001b[0maxis\u001b[0m\u001b[1;33m,\u001b[0m \u001b[0mvalues\u001b[0m\u001b[1;33m)\u001b[0m\u001b[1;33m\u001b[0m\u001b[0m\n\u001b[0m\u001b[1;32m    559\u001b[0m             \u001b[1;32melse\u001b[0m\u001b[1;33m:\u001b[0m\u001b[1;33m\u001b[0m\u001b[0m\n\u001b[1;32m    560\u001b[0m                 \u001b[0mresult\u001b[0m \u001b[1;33m=\u001b[0m \u001b[0mcalc\u001b[0m\u001b[1;33m(\u001b[0m\u001b[0mvalues\u001b[0m\u001b[1;33m)\u001b[0m\u001b[1;33m\u001b[0m\u001b[0m\n",
      "\u001b[0;32mF:\\Program Files\\Anaconda2\\lib\\site-packages\\numpy\\lib\\shape_base.pyc\u001b[0m in \u001b[0;36mapply_along_axis\u001b[0;34m(func1d, axis, arr, *args, **kwargs)\u001b[0m\n\u001b[1;32m     89\u001b[0m     \u001b[0moutshape\u001b[0m \u001b[1;33m=\u001b[0m \u001b[0masarray\u001b[0m\u001b[1;33m(\u001b[0m\u001b[0marr\u001b[0m\u001b[1;33m.\u001b[0m\u001b[0mshape\u001b[0m\u001b[1;33m)\u001b[0m\u001b[1;33m.\u001b[0m\u001b[0mtake\u001b[0m\u001b[1;33m(\u001b[0m\u001b[0mindlist\u001b[0m\u001b[1;33m)\u001b[0m\u001b[1;33m\u001b[0m\u001b[0m\n\u001b[1;32m     90\u001b[0m     \u001b[0mi\u001b[0m\u001b[1;33m.\u001b[0m\u001b[0mput\u001b[0m\u001b[1;33m(\u001b[0m\u001b[0mindlist\u001b[0m\u001b[1;33m,\u001b[0m \u001b[0mind\u001b[0m\u001b[1;33m)\u001b[0m\u001b[1;33m\u001b[0m\u001b[0m\n\u001b[0;32m---> 91\u001b[0;31m     \u001b[0mres\u001b[0m \u001b[1;33m=\u001b[0m \u001b[0mfunc1d\u001b[0m\u001b[1;33m(\u001b[0m\u001b[0marr\u001b[0m\u001b[1;33m[\u001b[0m\u001b[0mtuple\u001b[0m\u001b[1;33m(\u001b[0m\u001b[0mi\u001b[0m\u001b[1;33m.\u001b[0m\u001b[0mtolist\u001b[0m\u001b[1;33m(\u001b[0m\u001b[1;33m)\u001b[0m\u001b[1;33m)\u001b[0m\u001b[1;33m]\u001b[0m\u001b[1;33m,\u001b[0m \u001b[1;33m*\u001b[0m\u001b[0margs\u001b[0m\u001b[1;33m,\u001b[0m \u001b[1;33m**\u001b[0m\u001b[0mkwargs\u001b[0m\u001b[1;33m)\u001b[0m\u001b[1;33m\u001b[0m\u001b[0m\n\u001b[0m\u001b[1;32m     92\u001b[0m     \u001b[1;31m#  if res is a number, then we have a smaller output array\u001b[0m\u001b[1;33m\u001b[0m\u001b[1;33m\u001b[0m\u001b[0m\n\u001b[1;32m     93\u001b[0m     \u001b[1;32mif\u001b[0m \u001b[0misscalar\u001b[0m\u001b[1;33m(\u001b[0m\u001b[0mres\u001b[0m\u001b[1;33m)\u001b[0m\u001b[1;33m:\u001b[0m\u001b[1;33m\u001b[0m\u001b[0m\n",
      "\u001b[0;32mF:\\Program Files\\Anaconda2\\lib\\site-packages\\pandas\\core\\window.pyc\u001b[0m in \u001b[0;36mcalc\u001b[0;34m(x)\u001b[0m\n\u001b[1;32m    553\u001b[0m \u001b[1;33m\u001b[0m\u001b[0m\n\u001b[1;32m    554\u001b[0m                 \u001b[1;32mdef\u001b[0m \u001b[0mcalc\u001b[0m\u001b[1;33m(\u001b[0m\u001b[0mx\u001b[0m\u001b[1;33m)\u001b[0m\u001b[1;33m:\u001b[0m\u001b[1;33m\u001b[0m\u001b[0m\n\u001b[0;32m--> 555\u001b[0;31m                     \u001b[1;32mreturn\u001b[0m \u001b[0mfunc\u001b[0m\u001b[1;33m(\u001b[0m\u001b[0mx\u001b[0m\u001b[1;33m,\u001b[0m \u001b[0mwindow\u001b[0m\u001b[1;33m,\u001b[0m \u001b[0mmin_periods\u001b[0m\u001b[1;33m=\u001b[0m\u001b[0mself\u001b[0m\u001b[1;33m.\u001b[0m\u001b[0mmin_periods\u001b[0m\u001b[1;33m)\u001b[0m\u001b[1;33m\u001b[0m\u001b[0m\n\u001b[0m\u001b[1;32m    556\u001b[0m \u001b[1;33m\u001b[0m\u001b[0m\n\u001b[1;32m    557\u001b[0m             \u001b[1;32mif\u001b[0m \u001b[0mvalues\u001b[0m\u001b[1;33m.\u001b[0m\u001b[0mndim\u001b[0m \u001b[1;33m>\u001b[0m \u001b[1;36m1\u001b[0m\u001b[1;33m:\u001b[0m\u001b[1;33m\u001b[0m\u001b[0m\n",
      "\u001b[0;32mF:\\Program Files\\Anaconda2\\lib\\site-packages\\pandas\\core\\window.pyc\u001b[0m in \u001b[0;36mf\u001b[0;34m(arg, window, min_periods)\u001b[0m\n\u001b[1;32m    616\u001b[0m             \u001b[0mminp\u001b[0m \u001b[1;33m=\u001b[0m \u001b[0m_use_window\u001b[0m\u001b[1;33m(\u001b[0m\u001b[0mmin_periods\u001b[0m\u001b[1;33m,\u001b[0m \u001b[0mwindow\u001b[0m\u001b[1;33m)\u001b[0m\u001b[1;33m\u001b[0m\u001b[0m\n\u001b[1;32m    617\u001b[0m             return algos.roll_generic(arg, window, minp, offset, func, args,\n\u001b[0;32m--> 618\u001b[0;31m                                       kwargs)\n\u001b[0m\u001b[1;32m    619\u001b[0m \u001b[1;33m\u001b[0m\u001b[0m\n\u001b[1;32m    620\u001b[0m         return self._apply(f, func, args=args, kwargs=kwargs,\n",
      "\u001b[0;32mpandas\\algos.pyx\u001b[0m in \u001b[0;36mpandas.algos.roll_generic (pandas\\algos.c:51581)\u001b[0;34m()\u001b[0m\n",
      "\u001b[0;31mTypeError\u001b[0m: a float is required"
     ]
    }
   ],
   "source": [
    "\n",
    "merged_data.rolling(60).apply( lambda x: print np.shape(x) )"
   ]
  },
  {
   "cell_type": "code",
   "execution_count": 166,
   "metadata": {
    "collapsed": false
   },
   "outputs": [
    {
     "data": {
      "text/plain": [
       "array([[  1.00000000e+00,   5.20000000e-01,  -9.57044719e-04, ...,\n",
       "          2.40000000e-02,   6.04231446e-03,   1.10262820e-01],\n",
       "       [  1.00000000e+00,   1.20000000e+00,   5.39571864e-02, ...,\n",
       "          2.20000000e-02,   4.27478497e-02,  -7.03583700e-03],\n",
       "       [  1.00000000e+00,   8.30000000e-01,  -2.47685941e-02, ...,\n",
       "          2.50000000e-02,   1.31002946e-01,   2.17017020e-02],\n",
       "       ..., \n",
       "       [  1.00000000e+00,   3.60000000e-01,  -2.06708021e-03, ...,\n",
       "          0.00000000e+00,   1.74353387e-01,   1.32700700e-02],\n",
       "       [  1.00000000e+00,  -6.70000000e-01,   4.73590869e-02, ...,\n",
       "          0.00000000e+00,  -3.39015517e-02,   3.91592740e-02],\n",
       "       [  1.00000000e+00,  -9.70000000e-01,  -8.15422047e-03, ...,\n",
       "          0.00000000e+00,   1.09318191e-01,   6.44151900e-03]])"
      ]
     },
     "execution_count": 166,
     "metadata": {},
     "output_type": "execute_result"
    }
   ],
   "source": [
    "sm.add_constant(merged_data.get_values()[:,factor_class_num ])"
   ]
  },
  {
   "cell_type": "code",
   "execution_count": 111,
   "metadata": {
    "collapsed": false
   },
   "outputs": [
    {
     "data": {
      "text/html": [
       "<div>\n",
       "<table border=\"1\" class=\"dataframe\">\n",
       "  <thead>\n",
       "    <tr style=\"text-align: right;\">\n",
       "      <th></th>\n",
       "      <th>Equity_russel_3000</th>\n",
       "      <th>Equity_global_MSCI_ACWI</th>\n",
       "      <th>Bond_US_Barclay_ETF</th>\n",
       "      <th>Bond_US_Barclay_TIPS</th>\n",
       "      <th>Bond_US_HighYield_bond_Index</th>\n",
       "      <th>IYR</th>\n",
       "      <th>FOF_Fund of Fund</th>\n",
       "      <th>PE</th>\n",
       "      <th>Momentum</th>\n",
       "      <th>BXM Level (Volatility)</th>\n",
       "      <th>Mkt-RF</th>\n",
       "      <th>SMB</th>\n",
       "      <th>HML</th>\n",
       "      <th>RF</th>\n",
       "      <th>Last_Price (High Yield Credit Spread)</th>\n",
       "      <th>PS_VWF (Liquidity)</th>\n",
       "    </tr>\n",
       "  </thead>\n",
       "  <tbody>\n",
       "    <tr>\n",
       "      <th>2000-07</th>\n",
       "      <td>-0.019273</td>\n",
       "      <td>-0.030435</td>\n",
       "      <td>0.009077</td>\n",
       "      <td>0.008621</td>\n",
       "      <td>0.007210</td>\n",
       "      <td>0.063505</td>\n",
       "      <td>-0.0022</td>\n",
       "      <td>0.0335</td>\n",
       "      <td>0.52</td>\n",
       "      <td>-0.000957</td>\n",
       "      <td>1.03</td>\n",
       "      <td>0.77</td>\n",
       "      <td>-0.41</td>\n",
       "      <td>0.024</td>\n",
       "      <td>0.006042</td>\n",
       "      <td>0.110263</td>\n",
       "    </tr>\n",
       "    <tr>\n",
       "      <th>2000-08</th>\n",
       "      <td>0.073641</td>\n",
       "      <td>0.029985</td>\n",
       "      <td>0.014494</td>\n",
       "      <td>0.007436</td>\n",
       "      <td>0.012205</td>\n",
       "      <td>-0.015082</td>\n",
       "      <td>0.0200</td>\n",
       "      <td>0.0287</td>\n",
       "      <td>1.20</td>\n",
       "      <td>0.053957</td>\n",
       "      <td>1.19</td>\n",
       "      <td>0.16</td>\n",
       "      <td>-0.66</td>\n",
       "      <td>0.022</td>\n",
       "      <td>0.042748</td>\n",
       "      <td>-0.007036</td>\n",
       "    </tr>\n",
       "    <tr>\n",
       "      <th>2000-10</th>\n",
       "      <td>-0.014581</td>\n",
       "      <td>-0.020623</td>\n",
       "      <td>0.006617</td>\n",
       "      <td>0.012070</td>\n",
       "      <td>-0.029337</td>\n",
       "      <td>-0.056511</td>\n",
       "      <td>-0.0101</td>\n",
       "      <td>0.0417</td>\n",
       "      <td>0.83</td>\n",
       "      <td>-0.024769</td>\n",
       "      <td>2.75</td>\n",
       "      <td>0.59</td>\n",
       "      <td>-1.66</td>\n",
       "      <td>0.025</td>\n",
       "      <td>0.131003</td>\n",
       "      <td>0.021702</td>\n",
       "    </tr>\n",
       "    <tr>\n",
       "      <th>2000-11</th>\n",
       "      <td>-0.093335</td>\n",
       "      <td>-0.063006</td>\n",
       "      <td>0.016351</td>\n",
       "      <td>0.014511</td>\n",
       "      <td>-0.031331</td>\n",
       "      <td>0.020553</td>\n",
       "      <td>-0.0154</td>\n",
       "      <td>0.1753</td>\n",
       "      <td>1.36</td>\n",
       "      <td>-0.029412</td>\n",
       "      <td>-2.03</td>\n",
       "      <td>-0.67</td>\n",
       "      <td>1.50</td>\n",
       "      <td>0.024</td>\n",
       "      <td>0.142510</td>\n",
       "      <td>-0.041936</td>\n",
       "    </tr>\n",
       "    <tr>\n",
       "      <th>2001-01</th>\n",
       "      <td>0.033386</td>\n",
       "      <td>0.024680</td>\n",
       "      <td>0.016354</td>\n",
       "      <td>0.020818</td>\n",
       "      <td>0.059635</td>\n",
       "      <td>0.004608</td>\n",
       "      <td>0.0193</td>\n",
       "      <td>-0.0720</td>\n",
       "      <td>0.55</td>\n",
       "      <td>0.050773</td>\n",
       "      <td>-0.72</td>\n",
       "      <td>0.41</td>\n",
       "      <td>0.28</td>\n",
       "      <td>0.026</td>\n",
       "      <td>-0.207893</td>\n",
       "      <td>0.067541</td>\n",
       "    </tr>\n",
       "    <tr>\n",
       "      <th>2001-02</th>\n",
       "      <td>-0.092616</td>\n",
       "      <td>-0.085108</td>\n",
       "      <td>0.008711</td>\n",
       "      <td>0.016888</td>\n",
       "      <td>0.015794</td>\n",
       "      <td>-0.013761</td>\n",
       "      <td>-0.0074</td>\n",
       "      <td>-0.0276</td>\n",
       "      <td>1.09</td>\n",
       "      <td>-0.058046</td>\n",
       "      <td>-1.48</td>\n",
       "      <td>0.44</td>\n",
       "      <td>0.81</td>\n",
       "      <td>0.020</td>\n",
       "      <td>-0.004062</td>\n",
       "      <td>0.041837</td>\n",
       "    </tr>\n",
       "    <tr>\n",
       "      <th>2001-04</th>\n",
       "      <td>0.079365</td>\n",
       "      <td>0.070994</td>\n",
       "      <td>-0.004150</td>\n",
       "      <td>0.005665</td>\n",
       "      <td>-0.010922</td>\n",
       "      <td>0.032292</td>\n",
       "      <td>0.0069</td>\n",
       "      <td>-0.0152</td>\n",
       "      <td>-1.11</td>\n",
       "      <td>-0.028756</td>\n",
       "      <td>0.03</td>\n",
       "      <td>0.73</td>\n",
       "      <td>-0.51</td>\n",
       "      <td>0.020</td>\n",
       "      <td>0.033359</td>\n",
       "      <td>0.003772</td>\n",
       "    </tr>\n",
       "    <tr>\n",
       "      <th>2001-05</th>\n",
       "      <td>0.006573</td>\n",
       "      <td>-0.013722</td>\n",
       "      <td>0.006032</td>\n",
       "      <td>0.011883</td>\n",
       "      <td>0.019245</td>\n",
       "      <td>0.022880</td>\n",
       "      <td>0.0090</td>\n",
       "      <td>-0.2911</td>\n",
       "      <td>-0.55</td>\n",
       "      <td>0.013592</td>\n",
       "      <td>0.73</td>\n",
       "      <td>-0.29</td>\n",
       "      <td>-0.16</td>\n",
       "      <td>0.015</td>\n",
       "      <td>-0.116799</td>\n",
       "      <td>0.030435</td>\n",
       "    </tr>\n",
       "    <tr>\n",
       "      <th>2001-07</th>\n",
       "      <td>-0.017045</td>\n",
       "      <td>-0.016613</td>\n",
       "      <td>0.022357</td>\n",
       "      <td>0.016721</td>\n",
       "      <td>0.015541</td>\n",
       "      <td>-0.017248</td>\n",
       "      <td>-0.0043</td>\n",
       "      <td>0.0194</td>\n",
       "      <td>0.14</td>\n",
       "      <td>0.000669</td>\n",
       "      <td>0.50</td>\n",
       "      <td>-0.51</td>\n",
       "      <td>0.12</td>\n",
       "      <td>0.014</td>\n",
       "      <td>0.080723</td>\n",
       "      <td>0.035852</td>\n",
       "    </tr>\n",
       "    <tr>\n",
       "      <th>2001-08</th>\n",
       "      <td>-0.060452</td>\n",
       "      <td>-0.047655</td>\n",
       "      <td>0.011451</td>\n",
       "      <td>0.001352</td>\n",
       "      <td>0.009695</td>\n",
       "      <td>0.027067</td>\n",
       "      <td>0.0018</td>\n",
       "      <td>-0.1022</td>\n",
       "      <td>-0.83</td>\n",
       "      <td>-0.038921</td>\n",
       "      <td>0.42</td>\n",
       "      <td>-0.39</td>\n",
       "      <td>0.29</td>\n",
       "      <td>0.013</td>\n",
       "      <td>0.000000</td>\n",
       "      <td>0.046723</td>\n",
       "    </tr>\n",
       "  </tbody>\n",
       "</table>\n",
       "</div>"
      ],
      "text/plain": [
       "         Equity_russel_3000  Equity_global_MSCI_ACWI  Bond_US_Barclay_ETF  \\\n",
       "2000-07           -0.019273                -0.030435             0.009077   \n",
       "2000-08            0.073641                 0.029985             0.014494   \n",
       "2000-10           -0.014581                -0.020623             0.006617   \n",
       "2000-11           -0.093335                -0.063006             0.016351   \n",
       "2001-01            0.033386                 0.024680             0.016354   \n",
       "2001-02           -0.092616                -0.085108             0.008711   \n",
       "2001-04            0.079365                 0.070994            -0.004150   \n",
       "2001-05            0.006573                -0.013722             0.006032   \n",
       "2001-07           -0.017045                -0.016613             0.022357   \n",
       "2001-08           -0.060452                -0.047655             0.011451   \n",
       "\n",
       "         Bond_US_Barclay_TIPS  Bond_US_HighYield_bond_Index       IYR  \\\n",
       "2000-07              0.008621                      0.007210  0.063505   \n",
       "2000-08              0.007436                      0.012205 -0.015082   \n",
       "2000-10              0.012070                     -0.029337 -0.056511   \n",
       "2000-11              0.014511                     -0.031331  0.020553   \n",
       "2001-01              0.020818                      0.059635  0.004608   \n",
       "2001-02              0.016888                      0.015794 -0.013761   \n",
       "2001-04              0.005665                     -0.010922  0.032292   \n",
       "2001-05              0.011883                      0.019245  0.022880   \n",
       "2001-07              0.016721                      0.015541 -0.017248   \n",
       "2001-08              0.001352                      0.009695  0.027067   \n",
       "\n",
       "         FOF_Fund of Fund      PE  Momentum  BXM Level (Volatility)  Mkt-RF  \\\n",
       "2000-07           -0.0022  0.0335      0.52               -0.000957    1.03   \n",
       "2000-08            0.0200  0.0287      1.20                0.053957    1.19   \n",
       "2000-10           -0.0101  0.0417      0.83               -0.024769    2.75   \n",
       "2000-11           -0.0154  0.1753      1.36               -0.029412   -2.03   \n",
       "2001-01            0.0193 -0.0720      0.55                0.050773   -0.72   \n",
       "2001-02           -0.0074 -0.0276      1.09               -0.058046   -1.48   \n",
       "2001-04            0.0069 -0.0152     -1.11               -0.028756    0.03   \n",
       "2001-05            0.0090 -0.2911     -0.55                0.013592    0.73   \n",
       "2001-07           -0.0043  0.0194      0.14                0.000669    0.50   \n",
       "2001-08            0.0018 -0.1022     -0.83               -0.038921    0.42   \n",
       "\n",
       "          SMB   HML     RF  Last_Price (High Yield Credit Spread)  \\\n",
       "2000-07  0.77 -0.41  0.024                               0.006042   \n",
       "2000-08  0.16 -0.66  0.022                               0.042748   \n",
       "2000-10  0.59 -1.66  0.025                               0.131003   \n",
       "2000-11 -0.67  1.50  0.024                               0.142510   \n",
       "2001-01  0.41  0.28  0.026                              -0.207893   \n",
       "2001-02  0.44  0.81  0.020                              -0.004062   \n",
       "2001-04  0.73 -0.51  0.020                               0.033359   \n",
       "2001-05 -0.29 -0.16  0.015                              -0.116799   \n",
       "2001-07 -0.51  0.12  0.014                               0.080723   \n",
       "2001-08 -0.39  0.29  0.013                               0.000000   \n",
       "\n",
       "         PS_VWF (Liquidity)  \n",
       "2000-07            0.110263  \n",
       "2000-08           -0.007036  \n",
       "2000-10            0.021702  \n",
       "2000-11           -0.041936  \n",
       "2001-01            0.067541  \n",
       "2001-02            0.041837  \n",
       "2001-04            0.003772  \n",
       "2001-05            0.030435  \n",
       "2001-07            0.035852  \n",
       "2001-08            0.046723  "
      ]
     },
     "execution_count": 111,
     "metadata": {},
     "output_type": "execute_result"
    }
   ],
   "source": [
    "a(merged_data.iloc[:10,:])"
   ]
  },
  {
   "cell_type": "code",
   "execution_count": null,
   "metadata": {
    "collapsed": true
   },
   "outputs": [],
   "source": []
  }
 ],
 "metadata": {
  "anaconda-cloud": {},
  "kernelspec": {
   "display_name": "Python [conda root]",
   "language": "python",
   "name": "conda-root-py"
  },
  "language_info": {
   "codemirror_mode": {
    "name": "ipython",
    "version": 2
   },
   "file_extension": ".py",
   "mimetype": "text/x-python",
   "name": "python",
   "nbconvert_exporter": "python",
   "pygments_lexer": "ipython2",
   "version": "2.7.12"
  }
 },
 "nbformat": 4,
 "nbformat_minor": 1
}
