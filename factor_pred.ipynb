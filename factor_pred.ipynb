{
 "cells": [
  {
   "cell_type": "code",
   "execution_count": 1,
   "metadata": {
    "collapsed": true
   },
   "outputs": [],
   "source": [
    "import pandas as pd \n",
    "import numpy as np\n",
    "import statsmodels.api as sm\n",
    "import os\n",
    "import datetime as dt\n",
    "from statsmodels.tsa.stattools import pacf\n",
    "from statsmodels.graphics.tsaplots import plot_acf, plot_pacf\n",
    "\n",
    "from decimal import *\n",
    "\n",
    "import matplotlib.pyplot as plt \n",
    "%matplotlib inline\n",
    "\n",
    "import seaborn as sns\n",
    "\n",
    "from numpy.linalg import inv\n",
    "\n",
    "from cvxpy import *\n",
    "\n",
    "from IPython.core.debugger import Tracer"
   ]
  },
  {
   "cell_type": "code",
   "execution_count": 2,
   "metadata": {
    "collapsed": true
   },
   "outputs": [],
   "source": [
    "root_dir = '/Users/yma/Dropbox/MFE230K_Asset/Dynamic_Factor_Timing_Project'"
   ]
  },
  {
   "cell_type": "code",
   "execution_count": 3,
   "metadata": {
    "collapsed": true
   },
   "outputs": [],
   "source": [
    "def align_data(df_assets, df_factors):\n",
    "    \n",
    "    # concatenate factors and assets data\n",
    "    df_all = pd.concat([df_assets, df_factors], axis = 1)\n",
    "    df_all.dropna(inplace = True)\n",
    "\n",
    "    N_factors = df_factors.shape[1]\n",
    "    N_assets = df_assets.shape[1]\n",
    "\n",
    "    if (N_assets + N_factors) != df_all.shape[1]:\n",
    "        print('error!')\n",
    "    \n",
    "    df_assets = df_all.iloc[:, :N_assets]\n",
    "    df_factors = df_all.iloc[:, N_assets:]\n",
    "    \n",
    "    return df_assets, df_factors"
   ]
  },
  {
   "cell_type": "code",
   "execution_count": 12,
   "metadata": {
    "collapsed": false
   },
   "outputs": [],
   "source": [
    "# read factor data\n",
    "df_factors = pd.read_csv(root_dir + '/data' + \\\n",
    "                        '/Monthly_Factors_No_Liq.csv')\n",
    "\n",
    "df_factors.set_index('Date', inplace = True)\n",
    "df_factors.index = pd.to_datetime(df_factors.index)\n",
    "df_factors.index = df_factors.index.map(lambda x:x.strftime('%Y-%m'))\n",
    "\n",
    "\n",
    "# read the assets\n",
    "df_assets  = pd.read_csv(root_dir + '/data/asset_return.csv')\n",
    "df_assets = df_assets.rename(columns = {df_assets.columns[0]:'Date'})\n",
    "df_assets.set_index('Date', inplace = True)\n",
    "df_assets.sort_index(inplace = True)\n",
    "\n",
    "df_assets, df_factors = align_data(df_assets, df_factors)\n",
    "\n",
    "df_assets = df_assets.subtract(df_factors['RF'], axis = 0)\n",
    "\n",
    "# read trading cost\n",
    "df_cost = pd.read_csv(root_dir + '/data/asset_cost.csv', index_col = 0)"
   ]
  },
  {
   "cell_type": "code",
   "execution_count": 6,
   "metadata": {
    "collapsed": true
   },
   "outputs": [],
   "source": [
    "del df_factors['BXM Volatility']\n",
    "df_RF = df_factors['RF']\n",
    "del df_factors['RF']"
   ]
  },
  {
   "cell_type": "code",
   "execution_count": 7,
   "metadata": {
    "collapsed": true
   },
   "outputs": [],
   "source": [
    "# do regression\n",
    "def factor_decomposition(df_assets, df_factors):\n",
    "    df_pvalues = pd.DataFrame(index = df_factors.columns, columns = df_assets.columns)\n",
    "    #df_betas =  pd.DataFrame(index = df_factors.columns, columns = df_assets.columns)\n",
    "    df_betas = pd.DataFrame(columns = df_assets.columns)\n",
    "    \n",
    "    for asset in df_assets.columns:\n",
    "        Y = df_assets[asset]\n",
    "        X = df_factors\n",
    "        X = sm.add_constant(X)\n",
    "\n",
    "        model = sm.OLS(Y, X)\n",
    "        results = model.fit()\n",
    "\n",
    "        df_betas[asset] = results.params\n",
    "        df_pvalues[asset] = results.pvalues\n",
    "        df_pvalues.loc['R2(%)', asset] = results.rsquared * 100\n",
    "    \n",
    "    return df_betas.iloc[1:,:], df_betas.iloc[0,:], df_pvalues"
   ]
  },
  {
   "cell_type": "markdown",
   "metadata": {},
   "source": [
    "# All data"
   ]
  },
  {
   "cell_type": "code",
   "execution_count": 8,
   "metadata": {
    "collapsed": true
   },
   "outputs": [],
   "source": [
    "# use all data\n",
    "betas, consts, pvalues = factor_decomposition(df_assets, df_factors)"
   ]
  },
  {
   "cell_type": "code",
   "execution_count": 20,
   "metadata": {
    "collapsed": false
   },
   "outputs": [
    {
     "data": {
      "text/html": [
       "<div>\n",
       "<table border=\"1\" class=\"dataframe\">\n",
       "  <thead>\n",
       "    <tr style=\"text-align: right;\">\n",
       "      <th></th>\n",
       "      <th>Equity_russel_3000</th>\n",
       "      <th>Equity_global_MSCI_ACWI</th>\n",
       "      <th>Bond_US_Barclay_ETF</th>\n",
       "      <th>Bond_US_Barclay_TIPS</th>\n",
       "      <th>Bond_US_HighYield_bond_Index</th>\n",
       "      <th>IYR</th>\n",
       "      <th>FOF_Fund of Fund</th>\n",
       "      <th>PE</th>\n",
       "    </tr>\n",
       "  </thead>\n",
       "  <tbody>\n",
       "    <tr>\n",
       "      <th>Momentum</th>\n",
       "      <td>-0.089298</td>\n",
       "      <td>-2.661934</td>\n",
       "      <td>1.723564</td>\n",
       "      <td>-0.432067</td>\n",
       "      <td>1.864474</td>\n",
       "      <td>4.291800</td>\n",
       "      <td>0.702172</td>\n",
       "      <td>0.787072</td>\n",
       "    </tr>\n",
       "    <tr>\n",
       "      <th>BXM Volatility</th>\n",
       "      <td>1.220612</td>\n",
       "      <td>2.433861</td>\n",
       "      <td>-0.320593</td>\n",
       "      <td>0.948169</td>\n",
       "      <td>-0.088276</td>\n",
       "      <td>1.303554</td>\n",
       "      <td>-0.359681</td>\n",
       "      <td>-0.232658</td>\n",
       "    </tr>\n",
       "    <tr>\n",
       "      <th>Mkt-RF</th>\n",
       "      <td>0.812045</td>\n",
       "      <td>2.199300</td>\n",
       "      <td>-0.492012</td>\n",
       "      <td>0.810953</td>\n",
       "      <td>-0.167531</td>\n",
       "      <td>1.095730</td>\n",
       "      <td>-0.061354</td>\n",
       "      <td>-1.404456</td>\n",
       "    </tr>\n",
       "    <tr>\n",
       "      <th>SMB</th>\n",
       "      <td>0.047758</td>\n",
       "      <td>-4.697237</td>\n",
       "      <td>3.298516</td>\n",
       "      <td>0.120089</td>\n",
       "      <td>4.463408</td>\n",
       "      <td>10.273439</td>\n",
       "      <td>-0.014153</td>\n",
       "      <td>2.910724</td>\n",
       "    </tr>\n",
       "    <tr>\n",
       "      <th>HML</th>\n",
       "      <td>1.548040</td>\n",
       "      <td>4.712708</td>\n",
       "      <td>2.104494</td>\n",
       "      <td>4.970757</td>\n",
       "      <td>2.330165</td>\n",
       "      <td>6.432868</td>\n",
       "      <td>-1.756555</td>\n",
       "      <td>2.600363</td>\n",
       "    </tr>\n",
       "    <tr>\n",
       "      <th>RF</th>\n",
       "      <td>-1111.993674</td>\n",
       "      <td>-3139.894687</td>\n",
       "      <td>482.640902</td>\n",
       "      <td>-1194.593549</td>\n",
       "      <td>94.466220</td>\n",
       "      <td>-1805.766958</td>\n",
       "      <td>604.386511</td>\n",
       "      <td>-1383.675120</td>\n",
       "    </tr>\n",
       "    <tr>\n",
       "      <th>HY Credit Spread</th>\n",
       "      <td>0.032074</td>\n",
       "      <td>-0.142191</td>\n",
       "      <td>0.276289</td>\n",
       "      <td>0.197480</td>\n",
       "      <td>0.110553</td>\n",
       "      <td>1.025536</td>\n",
       "      <td>-0.143120</td>\n",
       "      <td>0.070965</td>\n",
       "    </tr>\n",
       "    <tr>\n",
       "      <th>IG Credit Spread</th>\n",
       "      <td>-0.252462</td>\n",
       "      <td>0.009263</td>\n",
       "      <td>-0.506803</td>\n",
       "      <td>-0.345685</td>\n",
       "      <td>-0.666578</td>\n",
       "      <td>-1.903880</td>\n",
       "      <td>0.165149</td>\n",
       "      <td>0.096762</td>\n",
       "    </tr>\n",
       "    <tr>\n",
       "      <th>VIX</th>\n",
       "      <td>-0.105507</td>\n",
       "      <td>-0.141449</td>\n",
       "      <td>-0.016165</td>\n",
       "      <td>-0.049003</td>\n",
       "      <td>-0.001698</td>\n",
       "      <td>-0.156900</td>\n",
       "      <td>-0.019367</td>\n",
       "      <td>-0.102763</td>\n",
       "    </tr>\n",
       "  </tbody>\n",
       "</table>\n",
       "</div>"
      ],
      "text/plain": [
       "                  Equity_russel_3000  Equity_global_MSCI_ACWI  \\\n",
       "Momentum                   -0.089298                -2.661934   \n",
       "BXM Volatility              1.220612                 2.433861   \n",
       "Mkt-RF                      0.812045                 2.199300   \n",
       "SMB                         0.047758                -4.697237   \n",
       "HML                         1.548040                 4.712708   \n",
       "RF                      -1111.993674             -3139.894687   \n",
       "HY Credit Spread            0.032074                -0.142191   \n",
       "IG Credit Spread           -0.252462                 0.009263   \n",
       "VIX                        -0.105507                -0.141449   \n",
       "\n",
       "                  Bond_US_Barclay_ETF  Bond_US_Barclay_TIPS  \\\n",
       "Momentum                     1.723564             -0.432067   \n",
       "BXM Volatility              -0.320593              0.948169   \n",
       "Mkt-RF                      -0.492012              0.810953   \n",
       "SMB                          3.298516              0.120089   \n",
       "HML                          2.104494              4.970757   \n",
       "RF                         482.640902          -1194.593549   \n",
       "HY Credit Spread             0.276289              0.197480   \n",
       "IG Credit Spread            -0.506803             -0.345685   \n",
       "VIX                         -0.016165             -0.049003   \n",
       "\n",
       "                  Bond_US_HighYield_bond_Index          IYR  FOF_Fund of Fund  \\\n",
       "Momentum                              1.864474     4.291800          0.702172   \n",
       "BXM Volatility                       -0.088276     1.303554         -0.359681   \n",
       "Mkt-RF                               -0.167531     1.095730         -0.061354   \n",
       "SMB                                   4.463408    10.273439         -0.014153   \n",
       "HML                                   2.330165     6.432868         -1.756555   \n",
       "RF                                   94.466220 -1805.766958        604.386511   \n",
       "HY Credit Spread                      0.110553     1.025536         -0.143120   \n",
       "IG Credit Spread                     -0.666578    -1.903880          0.165149   \n",
       "VIX                                  -0.001698    -0.156900         -0.019367   \n",
       "\n",
       "                           PE  \n",
       "Momentum             0.787072  \n",
       "BXM Volatility      -0.232658  \n",
       "Mkt-RF              -1.404456  \n",
       "SMB                  2.910724  \n",
       "HML                  2.600363  \n",
       "RF               -1383.675120  \n",
       "HY Credit Spread     0.070965  \n",
       "IG Credit Spread     0.096762  \n",
       "VIX                 -0.102763  "
      ]
     },
     "execution_count": 20,
     "metadata": {},
     "output_type": "execute_result"
    }
   ],
   "source": [
    "betas"
   ]
  },
  {
   "cell_type": "code",
   "execution_count": 21,
   "metadata": {
    "collapsed": false
   },
   "outputs": [
    {
     "data": {
      "text/plain": [
       "Equity_russel_3000             -5.580182e-08\n",
       "Equity_global_MSCI_ACWI        -3.280144e-07\n",
       "Bond_US_Barclay_ETF             3.892241e-07\n",
       "Bond_US_Barclay_TIPS            2.027841e-07\n",
       "Bond_US_HighYield_bond_Index    3.996706e-07\n",
       "IYR                             6.173575e-07\n",
       "FOF_Fund of Fund               -2.363555e-07\n",
       "PE                              3.732910e-08\n",
       "Name: const, dtype: float64"
      ]
     },
     "execution_count": 21,
     "metadata": {},
     "output_type": "execute_result"
    }
   ],
   "source": [
    "consts"
   ]
  },
  {
   "cell_type": "markdown",
   "metadata": {},
   "source": [
    "# Start here"
   ]
  },
  {
   "cell_type": "code",
   "execution_count": 9,
   "metadata": {
    "collapsed": true
   },
   "outputs": [],
   "source": [
    "def mean_variance_model_TC(asset_alpha, asset_cov, df_cost, w0, lam = 10000):\n",
    "    N_asset = asset_cov.shape[0]\n",
    "    w = Variable(N_asset)\n",
    "    gamma = Parameter(sign = 'positive')\n",
    "    ret = np.array(asset_alpha).T * w\n",
    "    risk = quad_form(w, np.array(asset_cov))\n",
    "    trading_cost = np.array(df_cost.loc['trading',:])*abs(w - np.array(w0))\n",
    "    holding_cost = np.array(df_cost.loc['holding',:])*w / 12\n",
    "    \n",
    "    prob = Problem(Maximize(ret - gamma * risk - trading_cost - holding_cost),\\\n",
    "                   [sum_entries(w) == 1, w >= 0])\n",
    "                   \n",
    "    gamma.value = lam\n",
    "    prob.solve()\n",
    "    \n",
    "    df_sol = pd.Series(data = np.array(w.value).flatten(), index = asset_alpha.index)\n",
    "    return df_sol"
   ]
  },
  {
   "cell_type": "code",
   "execution_count": 14,
   "metadata": {
    "collapsed": true
   },
   "outputs": [],
   "source": [
    "def portfolio(df_assets, df_weight, df_cost, df_RF):\n",
    "    '''\n",
    "    asset return for each period, and weights\n",
    "    '''\n",
    "    # transaction cost for each month\n",
    "    # first line should be cash holding\n",
    "    \n",
    "    pf_value = pd.Series(index = df_weight.index)\n",
    "    pf_value.iloc[0] = 1\n",
    "\n",
    "    for i in np.arange(1, df_weight.shape[0]):\n",
    "        month = df_weight.index[i]\n",
    "      \n",
    "        trading_cost = np.abs(df_weight.iloc[i,:] - df_weight.iloc[i-1,:]).dot(\\\n",
    "                                df_cost.loc['trading', :]) * pf_value.iloc[i-1]\n",
    "        \n",
    "        pf_value.iloc[i] = pf_value.iloc[i-1] * \\\n",
    "            df_weight.iloc[i,:].dot(1 + df_assets.loc[month,:] + df_RF.loc[month]\\\n",
    "                                    - df_cost.loc['holding',:]/12) - \\\n",
    "            trading_cost\n",
    "    \n",
    "    return pf_value"
   ]
  },
  {
   "cell_type": "code",
   "execution_count": 15,
   "metadata": {
    "collapsed": true
   },
   "outputs": [],
   "source": [
    "# covariance prediction\n",
    "alpha_ = 0.5\n",
    "#alpha_ = 0.0\n",
    "\n",
    "df_weight = pd.DataFrame(data = np.zeros( df_assets.shape ), index = df_assets.index, columns = df_assets.columns)\n",
    "N_skip = 12\n",
    "\n",
    "for month in df_assets.index:\n",
    "    \n",
    "    ind = np.where(df_assets.index == month)[0][0]\n",
    "    if ind < N_skip:\n",
    "        continue\n",
    "\n",
    "    # prediction on current month\n",
    "    # use previous data\n",
    "    df_prev_factor = df_factors.iloc[:ind,:]\n",
    "    df_prev_asset = df_assets.iloc[:ind, :]\n",
    "    \n",
    "    n = df_prev_factor.shape[0]\n",
    "    weights = (1 - alpha_) * alpha_** (n - np.arange(1, n+1))\n",
    "    weights = weights / np.sum(weights)\n",
    "    \n",
    "    df_prev_factor = df_prev_factor.multiply(weights, axis = 0)\n",
    "    df_prev_asset = df_prev_asset.multiply(weights, axis = 0)\n",
    "    \n",
    "    \n",
    "    # prediction of factor alpha\n",
    "    factor_alpha = df_prev_factor.mean()\n",
    "    \n",
    "    # covariance matrix of factors\n",
    "    factor_cov = df_prev_factor.cov()\n",
    "    \n",
    "    # beta\n",
    "    betas, consts, pvalues = factor_decomposition(df_prev_asset, df_prev_factor)\n",
    "    \n",
    "    # covariance between assets\n",
    "    asset_alpha = betas.transpose().dot(factor_alpha) + consts\n",
    "    asset_cov = betas.transpose().dot(factor_cov).dot(betas)\n",
    "    \n",
    "    \n",
    "    #asset_alpha = df_prev_asset.mean()\n",
    "    #asset_cov = df_prev_asset.cov()\n",
    "    \n",
    "    # optimization models\n",
    "    #df_weight.loc[month,:] = 1/df_weight.shape[1]\n",
    "    df_weight.loc[month, : ] = mean_variance_model_TC(asset_alpha, asset_cov, df_cost, \\\n",
    "                                                      df_weight.iloc[ind,:], 100)\n",
    "    \n",
    "df_weight = df_weight.iloc[N_skip-1:, :]   \n",
    "df_weight.iloc[0, :] = 0\n",
    "pf = portfolio(df_assets.astype(float), df_weight.astype(float), df_cost, df_RF)"
   ]
  },
  {
   "cell_type": "code",
   "execution_count": 18,
   "metadata": {
    "collapsed": false
   },
   "outputs": [
    {
     "data": {
      "text/plain": [
       "<matplotlib.legend.Legend at 0x116c1f240>"
      ]
     },
     "execution_count": 18,
     "metadata": {},
     "output_type": "execute_result"
    },
    {
     "data": {
      "image/png": "[encoded data removed]",
      "text/plain": [
       "<matplotlib.figure.Figure at 0x116aabe80>"
      ]
     },
     "metadata": {},
     "output_type": "display_data"
    }
   ],
   "source": [
    "pf.plot(label = 'factor pred')\n",
    "plt.legend(bbox_to_anchor=(1.2, 1))"
   ]
  },
  {
   "cell_type": "code",
   "execution_count": null,
   "metadata": {
    "collapsed": true
   },
   "outputs": [],
   "source": []
  }
 ],
 "metadata": {
  "kernelspec": {
   "display_name": "Python [Root]",
   "language": "python",
   "name": "Python [Root]"
  },
  "language_info": {
   "codemirror_mode": {
    "name": "ipython",
    "version": 3
   },
   "file_extension": ".py",
   "mimetype": "text/x-python",
   "name": "python",
   "nbconvert_exporter": "python",
   "pygments_lexer": "ipython3",
   "version": "3.5.2"
  }
 },
 "nbformat": 4,
 "nbformat_minor": 0
}
